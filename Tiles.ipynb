{
 "cells": [
  {
   "cell_type": "code",
   "execution_count": 23,
   "id": "a244ee77-1ab2-4cdf-afcb-62e6cd321265",
   "metadata": {},
   "outputs": [],
   "source": [
    "import os\n",
    "import random\n",
    "import numpy as np\n",
    "import torch\n",
    "import rasterio\n",
    "from PIL import Image\n",
    "from torchvision import transforms"
   ]
  },
  {
   "cell_type": "code",
   "execution_count": 24,
   "id": "327a5d41-aef8-4ebf-8b12-8e9471f3996a",
   "metadata": {},
   "outputs": [],
   "source": [
    "# Paths\n",
    "input_root = r\"E:\\Sentinel-2_mosaics\"\n",
    "output_dir = r\"E:\\processed_tiles\"\n",
    "os.makedirs(f\"{output_dir}/train/images\", exist_ok=True)\n",
    "os.makedirs(f\"{output_dir}/train/masks\", exist_ok=True)\n",
    "os.makedirs(f\"{output_dir}/test/images\", exist_ok=True)\n",
    "os.makedirs(f\"{output_dir}/test/masks\", exist_ok=True)"
   ]
  },
  {
   "cell_type": "code",
   "execution_count": 25,
   "id": "0551521a-e646-4c5c-a0c2-9eaa38bbe450",
   "metadata": {},
   "outputs": [],
   "source": [
    "# NDWI Calculation\n",
    "def compute_ndwi(green, nir):\n",
    "    denom = green + nir\n",
    "    denom[denom == 0] = 1e-6  # avoid division by zero\n",
    "    return (green - nir) / denom"
   ]
  },
  {
   "cell_type": "code",
   "execution_count": 26,
   "id": "3fae1033-70da-4e85-bdd2-ffa4ff9273b9",
   "metadata": {},
   "outputs": [],
   "source": [
    "# Load Sentinel-2 bands\n",
    "def load_bands(folder):\n",
    "    band_files = {'B02': None, 'B03': None, 'B04': None, 'B08': None}\n",
    "    for file in os.listdir(folder):\n",
    "        for band in band_files.keys():\n",
    "            if file.endswith(f\"{band}.tif\"):\n",
    "                band_files[band] = os.path.join(folder, file)\n",
    "\n",
    "    with rasterio.open(band_files['B02']) as f: B02 = f.read(1).astype(np.float32) / 10000\n",
    "    with rasterio.open(band_files['B03']) as f: B03 = f.read(1).astype(np.float32) / 10000\n",
    "    with rasterio.open(band_files['B04']) as f: B04 = f.read(1).astype(np.float32) / 10000\n",
    "    with rasterio.open(band_files['B08']) as f: B08 = f.read(1).astype(np.float32) / 10000\n",
    "\n",
    "    return B02, B03, B04, B08"
   ]
  },
  {
   "cell_type": "code",
   "execution_count": 27,
   "id": "e4127986-bb10-4f0e-82c3-a464484ac5f7",
   "metadata": {},
   "outputs": [],
   "source": [
    "# Slice into tiles\n",
    "def slice_tiles(img, mask, size=128, allow_blank=False):\n",
    "    img_tiles, mask_tiles, positions = [], [], []\n",
    "    width, height = img.size\n",
    "    for y in range(0, height, size):\n",
    "        for x in range(0, width, size):\n",
    "            if x + size <= width and y + size <= height:\n",
    "                box = (x, y, x + size, y + size)\n",
    "                tile = img.crop(box)\n",
    "                tile_mask = mask.crop(box)\n",
    "                if allow_blank or np.array(tile).mean() > 25:\n",
    "                    img_tiles.append(tile)\n",
    "                    mask_tiles.append(tile_mask)\n",
    "                    positions.append((x, y))\n",
    "    return img_tiles, mask_tiles, positions"
   ]
  },
  {
   "cell_type": "code",
   "execution_count": 28,
   "id": "06429419-56a8-4887-bf39-ec521b2dc875",
   "metadata": {},
   "outputs": [],
   "source": [
    "# Save PyTorch Tensors\n",
    "def save_tensor_tiles(tiles, masks, positions, counter, folder_name, minmax_tracker, include_xy=False, dataset_type=\"train\"):\n",
    "    for img, mask, (x, y) in zip(tiles, masks, positions):\n",
    "        img_np = np.array(img)\n",
    "        mask_np = np.array(mask)\n",
    "        water_ratio = np.mean(mask_np > 0)\n",
    "        water_pct = int(round(water_ratio * 100))\n",
    "\n",
    "        # Filenaming scheme\n",
    "        if include_xy:\n",
    "            filename = f\"num{counter:05d}_x{x}_y{y}_water{water_pct:02d}.pt\"\n",
    "        else:\n",
    "            filename = f\"num{counter:05d}_water{water_pct:02d}.pt\"\n",
    "\n",
    "        # Convert to normalised torch tensors\n",
    "        img_tensor = torch.tensor(img_np, dtype=torch.float32).unsqueeze(0) / 255.0\n",
    "        mask_tensor = torch.tensor(mask_np, dtype=torch.float32).unsqueeze(0) / 255.0\n",
    "\n",
    "        # Define save path\n",
    "        torch.save(img_tensor, os.path.join(output_dir, dataset_type, \"images\", f\"img_{filename}\"))\n",
    "        torch.save(mask_tensor, os.path.join(output_dir, dataset_type, \"masks\", f\"msk_{filename}\"))\n",
    "\n",
    "        # Track non-zero stats (Should remove to speed up process)\n",
    "        nonzero = img_np[img_np > 0]\n",
    "        if nonzero.size > 0:\n",
    "            min_val = nonzero.min()\n",
    "            max_val = nonzero.max()\n",
    "            minmax_tracker['min'] = min(min_val, minmax_tracker['min'])\n",
    "            minmax_tracker['max'] = max(max_val, minmax_tracker['max'])\n",
    "\n",
    "        counter += 1\n",
    "    return counter"
   ]
  },
  {
   "cell_type": "code",
   "execution_count": 29,
   "id": "740e837b-d4bc-4fac-a9c4-d1524b7a911d",
   "metadata": {},
   "outputs": [
    {
     "name": "stdout",
     "output_type": "stream",
     "text": [
      "Processing: Sentinel-2_mosaic_2020_Q1_47QPF_0_0\n",
      "Processing: Sentinel-2_mosaic_2020_Q1_47QPG_0_0\n",
      "Processing: Sentinel-2_mosaic_2020_Q1_47RPH_0_0\n",
      "Processing: Sentinel-2_mosaic_2020_Q1_48RTQ_0_0\n",
      "Processing: Sentinel-2_mosaic_2020_Q1_48RTR_0_0\n",
      "Processing: Sentinel-2_mosaic_2020_Q1_49SER_0_0\n",
      "Processing: Sentinel-2_mosaic_2020_Q1_49SES_0_0\n",
      "Processing: Sentinel-2_mosaic_2020_Q1_50QKM_0_0\n",
      "Processing: Sentinel-2_mosaic_2020_Q1_50QLM_0_0\n",
      "Processing: Sentinel-2_mosaic_2020_Q1_50RQS_0_0\n",
      "Processing: Sentinel-2_mosaic_2025_Q1_47QPF_0_0\n",
      "Processing: Sentinel-2_mosaic_2025_Q1_47QPG_0_0\n",
      "Processing: Sentinel-2_mosaic_2025_Q1_47RNH_0_0\n",
      "Processing: Sentinel-2_mosaic_2025_Q1_47RPH_0_0\n",
      "Processing: Sentinel-2_mosaic_2025_Q1_48RTQ_0_0\n",
      "Processing: Sentinel-2_mosaic_2025_Q1_48RTR_0_0\n",
      "Processing: Sentinel-2_mosaic_2025_Q1_49SER_0_0\n",
      "Processing: Sentinel-2_mosaic_2025_Q1_49SES_0_0\n",
      "Processing: Sentinel-2_mosaic_2025_Q1_49SFU_0_0\n",
      "Processing: Sentinel-2_mosaic_2025_Q1_50QKM_0_0\n",
      "Processing: Sentinel-2_mosaic_2025_Q1_50QLM_0_0\n",
      "Processing: Sentinel-2_mosaic_2025_Q1_50RQS_0_0\n",
      "Processing: Sentinel-2_mosaic_2025_Q1_51TXE_0_0\n",
      "\n",
      "Done. Total image/mask tiles saved: 144305\n",
      "Non-zero pixel value range across all image tiles: min = 1.000, max = 255.000\n"
     ]
    }
   ],
   "source": [
    "# Main Processing Loop\n",
    "counter = 0\n",
    "tile_size = 128\n",
    "minmax_tracker = {'min': float('inf'), 'max': float('-inf')}\n",
    "\n",
    "for folder_name in os.listdir(input_root):\n",
    "    folder_path = os.path.join(input_root, folder_name)\n",
    "    if not os.path.isdir(folder_path):\n",
    "        continue\n",
    "\n",
    "    print(f\"Processing: {folder_name}\")\n",
    "    B02, B03, B04, B08 = load_bands(folder_path)\n",
    "    ndwi = compute_ndwi(B03, B08)\n",
    "    mask = (ndwi > 0.2).astype(np.uint8) * 255\n",
    "\n",
    "    rgb = np.stack([B04, B03, B02], axis=-1)\n",
    "    rgb = np.clip(rgb * 255, 0, 255).astype(np.uint8)\n",
    "\n",
    "    pil_img = Image.fromarray(rgb)\n",
    "    pil_mask = Image.fromarray(mask)\n",
    "\n",
    "    # Save full test tiles (no filtering or augmentation)\n",
    "    test_tiles, test_masks, test_positions = slice_tiles(pil_img, pil_mask, tile_size, allow_blank=True)\n",
    "    counter = save_tensor_tiles(test_tiles, test_masks, test_positions, counter, folder_name, minmax_tracker, include_xy=True, dataset_type=\"test\")\n",
    "\n",
    "    # Save 3x training augments (random augmentations)\n",
    "    for _ in range(3):\n",
    "        jittered = transforms.ColorJitter(brightness=0.1, contrast=0.1, saturation=0.1)(pil_img)\n",
    "        aug_img, aug_mask = transform_pair(jittered, pil_mask)\n",
    "        train_tiles, train_masks, train_positions = slice_tiles(aug_img, aug_mask, tile_size)\n",
    "        counter = save_tensor_tiles(train_tiles, train_masks, train_positions, counter, folder_name, minmax_tracker, include_xy=False, dataset_type=\"train\")\n",
    "\n",
    "# Additional information\n",
    "print(f\"\\nDone. Total image/mask tiles saved: {counter}\")\n",
    "print(f\"Non-zero pixel value range across all image tiles: min = {minmax_tracker['min']:.3f}, max = {minmax_tracker['max']:.3f}\")"
   ]
  },
  {
   "cell_type": "markdown",
   "id": "70e5dbe5-c0b4-4f64-b2de-ce9f8d96683e",
   "metadata": {},
   "source": [
    "Attempted to use other file formats such as .png, they took up less storage (less than half) however, processing times were considerably greater."
   ]
  },
  {
   "cell_type": "markdown",
   "id": "5328cd54-a351-484c-8564-5ff74d5bb4cb",
   "metadata": {},
   "source": [
    "The minmax-tracker added considerable time - would remove if creating the slices again."
   ]
  }
 ],
 "metadata": {
  "kernelspec": {
   "display_name": "Python 3 (ipykernel)",
   "language": "python",
   "name": "python3"
  },
  "language_info": {
   "codemirror_mode": {
    "name": "ipython",
    "version": 3
   },
   "file_extension": ".py",
   "mimetype": "text/x-python",
   "name": "python",
   "nbconvert_exporter": "python",
   "pygments_lexer": "ipython3",
   "version": "3.12.7"
  }
 },
 "nbformat": 4,
 "nbformat_minor": 5
}
